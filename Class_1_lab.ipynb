{
  "nbformat": 4,
  "nbformat_minor": 0,
  "metadata": {
    "colab": {
      "provenance": [],
      "authorship_tag": "ABX9TyM9KFNtKtV0M8s7PX3IkesQ",
      "include_colab_link": true
    },
    "kernelspec": {
      "name": "python3",
      "display_name": "Python 3"
    },
    "language_info": {
      "name": "python"
    }
  },
  "cells": [
    {
      "cell_type": "markdown",
      "metadata": {
        "id": "view-in-github",
        "colab_type": "text"
      },
      "source": [
        "<a href=\"https://colab.research.google.com/github/Tyisthecode/ICM-2023-Cohen/blob/main/Class_1_lab.ipynb\" target=\"_parent\"><img src=\"https://colab.research.google.com/assets/colab-badge.svg\" alt=\"Open In Colab\"/></a>"
      ]
    },
    {
      "cell_type": "code",
      "execution_count": 2,
      "metadata": {
        "colab": {
          "base_uri": "https://localhost:8080/"
        },
        "id": "kJVUYgVcIQpF",
        "outputId": "2219411a-6de2-4ef8-b5dd-ea59422f4c50"
      },
      "outputs": [
        {
          "output_type": "stream",
          "name": "stdout",
          "text": [
            "55\n"
          ]
        }
      ],
      "source": [
        "fundamental = 55"
      ]
    },
    {
      "cell_type": "code",
      "source": [
        "print(fundamental)"
      ],
      "metadata": {
        "colab": {
          "base_uri": "https://localhost:8080/"
        },
        "id": "4jZbjntbPDU2",
        "outputId": "51f7f8db-f726-4072-cd11-7116649c25e4"
      },
      "execution_count": 3,
      "outputs": [
        {
          "output_type": "stream",
          "name": "stdout",
          "text": [
            "55\n"
          ]
        }
      ]
    },
    {
      "cell_type": "code",
      "source": [
        "firstPartial = 55 * 2\n",
        "print(firstPartial)"
      ],
      "metadata": {
        "colab": {
          "base_uri": "https://localhost:8080/"
        },
        "id": "4aPcNQK6PObj",
        "outputId": "481dd10a-6998-4c3c-8dc3-dddbbad97289"
      },
      "execution_count": 5,
      "outputs": [
        {
          "output_type": "stream",
          "name": "stdout",
          "text": [
            "110\n"
          ]
        }
      ]
    },
    {
      "cell_type": "code",
      "source": [
        "secondPartial = 55 * 3\n",
        "print(secondPartial)"
      ],
      "metadata": {
        "colab": {
          "base_uri": "https://localhost:8080/"
        },
        "id": "H5c6osUIPuc8",
        "outputId": "0aaf1080-4b86-44ec-dbf1-d34c864a7b52"
      },
      "execution_count": 6,
      "outputs": [
        {
          "output_type": "stream",
          "name": "stdout",
          "text": [
            "165\n"
          ]
        }
      ]
    },
    {
      "cell_type": "code",
      "source": [
        "thirdPartial = 55 * 4\n",
        "print(thirdPartial)"
      ],
      "metadata": {
        "colab": {
          "base_uri": "https://localhost:8080/"
        },
        "id": "nn3FhF7CQD2_",
        "outputId": "7b4e2e9a-4bd2-436a-cc00-ae4d9910f13c"
      },
      "execution_count": 7,
      "outputs": [
        {
          "output_type": "stream",
          "name": "stdout",
          "text": [
            "220\n"
          ]
        }
      ]
    },
    {
      "cell_type": "code",
      "source": [
        "fourthPartial = 55 * 5\n",
        "print(fourthPartial)"
      ],
      "metadata": {
        "colab": {
          "base_uri": "https://localhost:8080/"
        },
        "id": "uQdx5SCzQNxI",
        "outputId": "271b5718-d443-4c2d-9b02-e3d7a57e0696"
      },
      "execution_count": 8,
      "outputs": [
        {
          "output_type": "stream",
          "name": "stdout",
          "text": [
            "275\n"
          ]
        }
      ]
    },
    {
      "cell_type": "code",
      "source": [
        "fifthPartial = 55 * 6\n",
        "print(fifthPartial)"
      ],
      "metadata": {
        "colab": {
          "base_uri": "https://localhost:8080/"
        },
        "id": "CPHmEOi6QVG7",
        "outputId": "552da0c7-bc5e-4839-e809-d1add372ed6d"
      },
      "execution_count": 9,
      "outputs": [
        {
          "output_type": "stream",
          "name": "stdout",
          "text": [
            "330\n"
          ]
        }
      ]
    },
    {
      "cell_type": "code",
      "source": [
        "import math\n",
        "cents = math.log(3/2) * 1200 / math.log(2)\n",
        "print(cents)"
      ],
      "metadata": {
        "colab": {
          "base_uri": "https://localhost:8080/"
        },
        "id": "-Dym38OwSNLB",
        "outputId": "52eec5ea-303b-4d2c-ce30-c721e476dc92"
      },
      "execution_count": 10,
      "outputs": [
        {
          "output_type": "stream",
          "name": "stdout",
          "text": [
            "701.9550008653874\n"
          ]
        }
      ]
    },
    {
      "cell_type": "code",
      "source": [
        "cents = math.log(165/110) * 1200 / math.log(2)\n",
        "print(cents)"
      ],
      "metadata": {
        "colab": {
          "base_uri": "https://localhost:8080/"
        },
        "id": "7bi5bmdDTO_f",
        "outputId": "ed7532fa-212c-4d87-fe5e-7e4daf5bc376"
      },
      "execution_count": 11,
      "outputs": [
        {
          "output_type": "stream",
          "name": "stdout",
          "text": [
            "701.9550008653874\n"
          ]
        }
      ]
    },
    {
      "cell_type": "code",
      "source": [
        "cents1 = math.log(110/55) * 1200 / math.log(2)\n",
        "print(cents1)"
      ],
      "metadata": {
        "colab": {
          "base_uri": "https://localhost:8080/"
        },
        "id": "kz8j_7d3Tza7",
        "outputId": "b8c6b28e-5e31-4ebb-9e4f-9f3bbc7f72b3"
      },
      "execution_count": 12,
      "outputs": [
        {
          "output_type": "stream",
          "name": "stdout",
          "text": [
            "1200.0\n"
          ]
        }
      ]
    },
    {
      "cell_type": "code",
      "source": [
        "cents2 = math.log(165/55) * 1200 / math.log(2)\n",
        "print(cents2)"
      ],
      "metadata": {
        "colab": {
          "base_uri": "https://localhost:8080/"
        },
        "id": "4C0Q4opTUMQq",
        "outputId": "4e4bb38d-c1a2-4059-e6bf-5bdac40311ad"
      },
      "execution_count": 13,
      "outputs": [
        {
          "output_type": "stream",
          "name": "stdout",
          "text": [
            "1901.9550008653878\n"
          ]
        }
      ]
    },
    {
      "cell_type": "code",
      "source": [
        "cents3 = math.log(220/55) * 1200 / math.log(2)\n",
        "print(cents3)"
      ],
      "metadata": {
        "colab": {
          "base_uri": "https://localhost:8080/"
        },
        "id": "3xnxZh1-UkbJ",
        "outputId": "4b5564f7-d4cb-40f0-b82b-febffe303364"
      },
      "execution_count": 14,
      "outputs": [
        {
          "output_type": "stream",
          "name": "stdout",
          "text": [
            "2400.0\n"
          ]
        }
      ]
    },
    {
      "cell_type": "code",
      "source": [
        "cents4 = math.log(275/55) * 1200 / math.log(2)\n",
        "print(cents4)"
      ],
      "metadata": {
        "colab": {
          "base_uri": "https://localhost:8080/"
        },
        "id": "NIVgNS5QU02D",
        "outputId": "385dad53-b813-4783-eed8-a9de6218eb71"
      },
      "execution_count": 16,
      "outputs": [
        {
          "output_type": "stream",
          "name": "stdout",
          "text": [
            "2786.313713864835\n"
          ]
        }
      ]
    },
    {
      "cell_type": "code",
      "source": [
        "cents5 = math.log(330/55) * 1200 / math.log(2)\n",
        "print(cents5)"
      ],
      "metadata": {
        "colab": {
          "base_uri": "https://localhost:8080/"
        },
        "id": "2gIu5TaeVG-e",
        "outputId": "74e68096-fe24-4992-f5e5-ca9f76236847"
      },
      "execution_count": 17,
      "outputs": [
        {
          "output_type": "stream",
          "name": "stdout",
          "text": [
            "3101.9550008653873\n"
          ]
        }
      ]
    }
  ]
}